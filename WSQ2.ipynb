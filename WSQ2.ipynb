{
  "nbformat": 4,
  "nbformat_minor": 0,
  "metadata": {
    "colab": {
      "provenance": []
    },
    "kernelspec": {
      "name": "python3",
      "display_name": "Python 3"
    },
    "language_info": {
      "name": "python"
    }
  },
  "cells": [
    {
      "cell_type": "markdown",
      "source": [
        "# Day 6: Superpower\n"
      ],
      "metadata": {
        "id": "ZD6uZcPpp_ED"
      }
    },
    {
      "cell_type": "code",
      "execution_count": null,
      "metadata": {
        "colab": {
          "base_uri": "https://localhost:8080/"
        },
        "id": "hJ-v4tRMp5Vm",
        "outputId": "25cfb95c-0cd4-489f-8a06-b0e206294153"
      },
      "outputs": [
        {
          "output_type": "stream",
          "name": "stdout",
          "text": [
            "please add the base number \n",
            "2\n",
            "please add the exponent or power number \n",
            "2\n",
            "The result for 2 elevated to 2 is: 4\n"
          ]
        }
      ],
      "source": [
        "#Ask for input data\n",
        "x = int(input(\"please add the base number \\n\"))\n",
        "y = int(input(\"please add the power number \\n\"))\n",
        "\n",
        "#Def the function to elevate the base number\n",
        "def power(a, b):\n",
        "  if b == 0:\n",
        "    return 1\n",
        "  else:\n",
        "    return a ** b\n",
        "\n",
        "#The base number elevated\n",
        "print(f\"The result for {x} elevated to {y} is: {power(x,y)}\")"
      ]
    },
    {
      "cell_type": "markdown",
      "source": [
        "# Day 7: Factorial"
      ],
      "metadata": {
        "id": "JqMwV5-4zH4d"
      }
    },
    {
      "cell_type": "code",
      "source": [
        "# Python code to demonstrate naive method to compute factorial\n",
        "x = int(input(\"please add the number to compute the factorial\\n\"))\n",
        "j = 1\n",
        "\n",
        "#Use the range function to get the list of numbers\n",
        "for i in range(1, x + 1):\n",
        "  j *= i\n",
        "\n",
        "print(f\"The result for {x} is: {j} \")"
      ],
      "metadata": {
        "colab": {
          "base_uri": "https://localhost:8080/"
        },
        "id": "6v0zeKk9wykd",
        "outputId": "bc6863f8-2f27-443c-d3e7-1125c571adf4"
      },
      "execution_count": null,
      "outputs": [
        {
          "output_type": "stream",
          "name": "stdout",
          "text": [
            "please add the  number \n",
            "10\n",
            "The result for 10 is: 3628800 \n"
          ]
        }
      ]
    },
    {
      "cell_type": "markdown",
      "source": [
        "#Day 8: Ask for 10 numbers and give me summary stats"
      ],
      "metadata": {
        "id": "OtZ7Irl94upl"
      }
    },
    {
      "cell_type": "code",
      "source": [
        "import math\n",
        "\n",
        "def avg(x):\n",
        "    return x / 10\n",
        "\n",
        "def main():\n",
        "    array = []\n",
        "\n",
        "    sum = 0\n",
        "    square = 0\n",
        "\n",
        "    for i in range(10):\n",
        "        value = float(input(f\"Introduce a value ({i+1}): \\n\"))\n",
        "        array.append(value)\n",
        "\n",
        "    for value in array:\n",
        "        sum += value\n",
        "        square += value ** 2\n",
        "\n",
        "    deviation = math.sqrt(square / 10)\n",
        "\n",
        "    print(\"The addition is equals to:\", sum)\n",
        "    print(\"The average of the numbers you introduced is:\", avg(sum))\n",
        "    print(\"The standard deviation of the numbers you introduced is:\", deviation)\n",
        "\n",
        "if __name__ == \"__main__\":\n",
        "    main()5"
      ],
      "metadata": {
        "colab": {
          "base_uri": "https://localhost:8080/"
        },
        "id": "OhliWfnm4uYz",
        "outputId": "a468476d-03cd-4377-ccfc-0cdbec1edcab"
      },
      "execution_count": null,
      "outputs": [
        {
          "output_type": "stream",
          "name": "stdout",
          "text": [
            "Introduce a value (1): \n",
            "5\n",
            "Introduce a value (2): \n",
            "5\n",
            "Introduce a value (3): \n",
            "5\n",
            "Introduce a value (4): \n",
            "5\n",
            "Introduce a value (5): \n",
            "5\n",
            "Introduce a value (6): \n",
            "5\n",
            "Introduce a value (7): \n",
            "5\n",
            "Introduce a value (8): \n",
            "5\n",
            "Introduce a value (9): \n",
            "5\n",
            "Introduce a value (10): \n",
            "5\n",
            "The addition is equals to: 50.0\n",
            "The average of the numbers you introduced is: 5.0\n",
            "The standard deviation of the numbers you introduced is: 5.0\n"
          ]
        }
      ]
    },
    {
      "cell_type": "markdown",
      "source": [
        "#Day 9: Fibonacci generator"
      ],
      "metadata": {
        "id": "wv82a1_DAWeU"
      }
    },
    {
      "cell_type": "code",
      "source": [
        "#List of fibonacci sequence given an x input\n",
        "a = int(input('Give amount: '))\n",
        "\n",
        "def fib(n):\n",
        "    a, b = 0, 1\n",
        "    for _ in range(n):\n",
        "        yield a\n",
        "        a, b = b, a + b\n",
        "\n",
        "print(list(fib(a)))"
      ],
      "metadata": {
        "colab": {
          "base_uri": "https://localhost:8080/"
        },
        "id": "LeTPBEtnAV4Z",
        "outputId": "d74025ab-3e39-4982-b973-64a10ec3d92f"
      },
      "execution_count": null,
      "outputs": [
        {
          "output_type": "stream",
          "name": "stdout",
          "text": [
            "Give amount: 15\n",
            "[0, 1, 1, 2, 3, 5, 8, 13, 21, 34, 55, 89, 144, 233, 377]\n"
          ]
        }
      ]
    },
    {
      "cell_type": "code",
      "source": [
        "#N number in the fibonacci sequence\n",
        "def fibonacci(n):\n",
        "    z0, z1 = 0, 1\n",
        "    k = 0\n",
        "\n",
        "    if n == 1:\n",
        "        k = 0\n",
        "\n",
        "    elif n == 2:\n",
        "      k = 1\n",
        "\n",
        "    for i in range(n - 2):\n",
        "        k = z0 + z1\n",
        "        z0 = z1\n",
        "        z1 = k\n",
        "\n",
        "    return k\n",
        "\n",
        "def main():\n",
        "    n = int(input(\"Give me a number for the Fibonacci series: \"))\n",
        "    result = fibonacci(n)\n",
        "    print(\"The number in the Fibonacci series is:\", result)\n",
        "\n",
        "if __name__ == \"__main__\":\n",
        "    main()"
      ],
      "metadata": {
        "colab": {
          "base_uri": "https://localhost:8080/"
        },
        "id": "4OWEbdCBB276",
        "outputId": "fd4a8d0c-2c42-4596-bc87-f6135b7c19ae"
      },
      "execution_count": null,
      "outputs": [
        {
          "output_type": "stream",
          "name": "stdout",
          "text": [
            "Give me a number for the Fibonacci series: 15\n",
            "The number in the Fibonacci series is: 377\n"
          ]
        }
      ]
    },
    {
      "cell_type": "markdown",
      "source": [
        "#Day 10: To be, or not to be, a palindrome"
      ],
      "metadata": {
        "id": "MIo_wbtLME-T"
      }
    },
    {
      "cell_type": "code",
      "source": [
        "def isPalindrome(s):\n",
        "    s = s.lower().replace(\" \",\"\")\n",
        "    return s == s[::-1]\n",
        "    if s:\n",
        "      print(\"Yes\")\n",
        "    else:\n",
        "      print(\"No\")\n",
        "\n",
        "x = input(\"Add a phrase to test if it is a palindrome:\\n\")\n",
        "y = isPalindrome(x)\n",
        "print(f\"\\nThe result for {x} is: {y} \")"
      ],
      "metadata": {
        "colab": {
          "base_uri": "https://localhost:8080/"
        },
        "id": "XItCx9VvMEgq",
        "outputId": "6a3f9c2a-7ec9-45c8-af73-0c0237d2e775"
      },
      "execution_count": 16,
      "outputs": [
        {
          "output_type": "stream",
          "name": "stdout",
          "text": [
            "Add a phrase to test if it is a palindrome \n",
            "Anita lava la tina\n",
            "\n",
            "The result for Anita lava la tina is: True \n"
          ]
        }
      ]
    }
  ]
}