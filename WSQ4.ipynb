{
  "nbformat": 4,
  "nbformat_minor": 0,
  "metadata": {
    "colab": {
      "provenance": []
    },
    "kernelspec": {
      "name": "python3",
      "display_name": "Python 3"
    },
    "language_info": {
      "name": "python"
    }
  },
  "cells": [
    {
      "cell_type": "markdown",
      "source": [
        "#Day 16: Estimating Euler's constant"
      ],
      "metadata": {
        "id": "SKtvD0jmtIpu"
      }
    },
    {
      "cell_type": "code",
      "execution_count": 24,
      "metadata": {
        "colab": {
          "base_uri": "https://localhost:8080/"
        },
        "id": "AKos-n7GtHJG",
        "outputId": "e265f9f4-924c-49a9-e1ff-36d10b940ad5"
      },
      "outputs": [
        {
          "output_type": "stream",
          "name": "stdout",
          "text": [
            "Please type a number to calculate euler's constant with nth decimal place: 20\n",
            "The euler constant is:, 2.71828182845904553488\n"
          ]
        }
      ],
      "source": [
        "def factorial(x):\n",
        "    resultado = 1.0\n",
        "    for i in range(1, x+1):\n",
        "        if x == 0:\n",
        "            return resultado\n",
        "        else:\n",
        "            resultado *= i\n",
        "    return resultado\n",
        "\n",
        "def calculate_e(precision):\n",
        "    resultado1 = 0.0\n",
        "    resultado2 = 1.0\n",
        "\n",
        "    for i in range(1, 10000):\n",
        "        resultado1 = resultado2\n",
        "        resultado2 = resultado1 + (1 / factorial(i))\n",
        "    return resultado2\n",
        "\n",
        "def main():\n",
        "    a = int(input(\"Please type a number to calculate euler's constant with nth decimal place: \"))\n",
        "    print(f\"The euler constant is:, {calculate_e(a):.{a}f}\")\n",
        "\n",
        "if __name__ == \"__main__\":\n",
        "    main()\n"
      ]
    },
    {
      "cell_type": "markdown",
      "source": [
        "#Day 17: Bananas count"
      ],
      "metadata": {
        "id": "DYli1g8f9une"
      }
    },
    {
      "cell_type": "code",
      "source": [
        "string = str(input(\"Enter a string: \"))\n",
        "\n",
        "\n",
        "\n",
        "def search(string):\n",
        "  for words in string:\n",
        "\n",
        "    word = 'banana'\n",
        "    count = 0\n",
        "    index = 0\n",
        "\n",
        "    if word in words:\n",
        "      count +=1\n",
        "    else:\n",
        "      print(count)\n",
        "\n",
        "print(f\"There were found {search(string)} bananas\")\n"
      ],
      "metadata": {
        "colab": {
          "base_uri": "https://localhost:8080/"
        },
        "id": "y9fxhyB7-Xp5",
        "outputId": "9b8a9e4a-415a-496b-fc10-e1a3d29ece3e"
      },
      "execution_count": 36,
      "outputs": [
        {
          "output_type": "stream",
          "name": "stdout",
          "text": [
            "Enter a string: banana\n",
            "0\n",
            "0\n",
            "0\n",
            "0\n",
            "0\n",
            "0\n",
            "There were found None bananas\n"
          ]
        }
      ]
    }
  ]
}