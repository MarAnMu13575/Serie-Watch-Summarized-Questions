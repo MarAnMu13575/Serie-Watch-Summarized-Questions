{
  "nbformat": 4,
  "nbformat_minor": 0,
  "metadata": {
    "colab": {
      "provenance": []
    },
    "kernelspec": {
      "name": "python3",
      "display_name": "Python 3"
    },
    "language_info": {
      "name": "python"
    }
  },
  "cells": [
    {
      "cell_type": "markdown",
      "source": [
        "#Day 16: Estimating Euler's constant"
      ],
      "metadata": {
        "id": "SKtvD0jmtIpu"
      }
    },
    {
      "cell_type": "code",
      "execution_count": null,
      "metadata": {
        "colab": {
          "base_uri": "https://localhost:8080/"
        },
        "id": "AKos-n7GtHJG",
        "outputId": "e265f9f4-924c-49a9-e1ff-36d10b940ad5"
      },
      "outputs": [
        {
          "output_type": "stream",
          "name": "stdout",
          "text": [
            "Please type a number to calculate euler's constant with nth decimal place: 20\n",
            "The euler constant is:, 2.71828182845904553488\n"
          ]
        }
      ],
      "source": [
        "def factorial(x):\n",
        "    resultado = 1.0\n",
        "    for i in range(1, x+1):\n",
        "        if x == 0:\n",
        "            return resultado\n",
        "        else:\n",
        "            resultado *= i\n",
        "    return resultado\n",
        "\n",
        "def calculate_e(precision):\n",
        "    resultado1 = 0.0\n",
        "    resultado2 = 1.0\n",
        "\n",
        "    for i in range(1, 10000):\n",
        "        resultado1 = resultado2\n",
        "        resultado2 = resultado1 + (1 / factorial(i))\n",
        "    return resultado2\n",
        "\n",
        "def main():\n",
        "    a = int(input(\"Please type a number to calculate euler's constant with nth decimal place: \"))\n",
        "    print(f\"The euler constant is:, {calculate_e(a):.{a}f}\")\n",
        "\n",
        "if __name__ == \"__main__\":\n",
        "    main()\n"
      ]
    },
    {
      "cell_type": "markdown",
      "source": [
        "#Day 17: Bananas count"
      ],
      "metadata": {
        "id": "DYli1g8f9une"
      }
    },
    {
      "cell_type": "code",
      "source": [
        "import re\n",
        "\n",
        "def main():\n",
        "    word_list = input(\"Enter a list of words (separated by spaces): \").split()\n",
        "    search_word = input(\"Enter the word to search for: \")\n",
        "\n",
        "    # Using list comprehension to count occurrences\n",
        "    count = sum(1 for word in word_list if re.match(rf'\\b{re.escape(search_word)}\\b', word, re.IGNORECASE))\n",
        "\n",
        "    print(f\"The word '{search_word}' appeared {count} times in the list.\")\n",
        "\n",
        "if __name__ == \"__main__\":\n",
        "    main()"
      ],
      "metadata": {
        "colab": {
          "base_uri": "https://localhost:8080/"
        },
        "id": "9SEGpKzZBmUu",
        "outputId": "462c9dc1-0f28-4287-b8e3-508a3d1d0a75"
      },
      "execution_count": 16,
      "outputs": [
        {
          "output_type": "stream",
          "name": "stdout",
          "text": [
            "Enter a list of words (separated by spaces): Banana banana banana Henry Cavill\n",
            "Enter the word to search for: banana\n",
            "The word 'banana' appeared 3 times in the list.\n"
          ]
        }
      ]
    },
    {
      "cell_type": "markdown",
      "source": [],
      "metadata": {
        "id": "SRrN22g0KE01"
      }
    },
    {
      "cell_type": "code",
      "source": [],
      "metadata": {
        "id": "JklvN8anKEb6"
      },
      "execution_count": null,
      "outputs": []
    }
  ]
}