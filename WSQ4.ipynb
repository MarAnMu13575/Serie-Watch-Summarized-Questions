{
  "nbformat": 4,
  "nbformat_minor": 0,
  "metadata": {
    "colab": {
      "provenance": []
    },
    "kernelspec": {
      "name": "python3",
      "display_name": "Python 3"
    },
    "language_info": {
      "name": "python"
    }
  },
  "cells": [
    {
      "cell_type": "markdown",
      "source": [
        "#Day 16: Estimating Euler's constant"
      ],
      "metadata": {
        "id": "SKtvD0jmtIpu"
      }
    },
    {
      "cell_type": "code",
      "execution_count": null,
      "metadata": {
        "colab": {
          "base_uri": "https://localhost:8080/"
        },
        "id": "AKos-n7GtHJG",
        "outputId": "e265f9f4-924c-49a9-e1ff-36d10b940ad5"
      },
      "outputs": [
        {
          "output_type": "stream",
          "name": "stdout",
          "text": [
            "Please type a number to calculate euler's constant with nth decimal place: 20\n",
            "The euler constant is:, 2.71828182845904553488\n"
          ]
        }
      ],
      "source": [
        "def factorial(x):\n",
        "    resultado = 1.0\n",
        "    for i in range(1, x+1):\n",
        "        if x == 0:\n",
        "            return resultado\n",
        "        else:\n",
        "            resultado *= i\n",
        "    return resultado\n",
        "\n",
        "def calculate_e(precision):\n",
        "    resultado1 = 0.0\n",
        "    resultado2 = 1.0\n",
        "\n",
        "    for i in range(1, 10000):\n",
        "        resultado1 = resultado2\n",
        "        resultado2 = resultado1 + (1 / factorial(i))\n",
        "    return resultado2\n",
        "\n",
        "def main():\n",
        "    a = int(input(\"Please type a number to calculate euler's constant with nth decimal place: \"))\n",
        "    print(f\"The euler constant is:, {calculate_e(a):.{a}f}\")\n",
        "\n",
        "if __name__ == \"__main__\":\n",
        "    main()\n"
      ]
    },
    {
      "cell_type": "markdown",
      "source": [
        "#Day 17: Bananas count"
      ],
      "metadata": {
        "id": "DYli1g8f9une"
      }
    },
    {
      "cell_type": "code",
      "source": [
        "import re\n",
        "\n",
        "def main():\n",
        "    word_list = input(\"Enter a list of words (separated by spaces): \").split()\n",
        "    search_word = input(\"Enter the word to search for: \")\n",
        "\n",
        "    # Using list comprehension to count occurrences\n",
        "    count = sum(1 for word in word_list if re.match(rf'\\b{re.escape(search_word)}\\b', word, re.IGNORECASE))\n",
        "\n",
        "    print(f\"The word '{search_word}' appeared {count} times in the list.\")\n",
        "\n",
        "if __name__ == \"__main__\":\n",
        "    main()"
      ],
      "metadata": {
        "colab": {
          "base_uri": "https://localhost:8080/"
        },
        "id": "9SEGpKzZBmUu",
        "outputId": "462c9dc1-0f28-4287-b8e3-508a3d1d0a75"
      },
      "execution_count": null,
      "outputs": [
        {
          "output_type": "stream",
          "name": "stdout",
          "text": [
            "Enter a list of words (separated by spaces): Banana banana banana Henry Cavill\n",
            "Enter the word to search for: banana\n",
            "The word 'banana' appeared 3 times in the list.\n"
          ]
        }
      ]
    },
    {
      "cell_type": "markdown",
      "source": [
        "#Day 18: XKDC Comic web scaraping"
      ],
      "metadata": {
        "id": "SRrN22g0KE01"
      }
    },
    {
      "cell_type": "code",
      "source": [
        "import random\n",
        "import requests\n",
        "from IPython.display import Image, display\n",
        "\n",
        "# URL for the XKCD API\n",
        "api_url = \"https://xkcd.com/info.0.json\"\n",
        "\n",
        "# Fetch comic metadata from the API\n",
        "with requests.get(api_url) as response:\n",
        "    comic_data = response.json()\n",
        "\n",
        "# Get the latest comic number from the fetched data\n",
        "latest_comic_number = comic_data[\"num\"]\n",
        "\n",
        "# Select a random comic number\n",
        "random_comic_number = random.randint(1, latest_comic_number)\n",
        "\n",
        "# Generate the URL for the random comic's API\n",
        "random_comic_api_url = f\"https://xkcd.com/{random_comic_number}/info.0.json\"\n",
        "\n",
        "# Fetch the random comic's data from the API\n",
        "with requests.get(random_comic_api_url) as random_comic_response:\n",
        "    random_comic_data = random_comic_response.json()\n",
        "\n",
        "# Get the comic image URL\n",
        "comic_image_url = random_comic_data[\"img\"]\n",
        "\n",
        "# Display the comic image directly in the notebook\n",
        "display(Image(url=comic_image_url))"
      ],
      "metadata": {
        "colab": {
          "base_uri": "https://localhost:8080/",
          "height": 480
        },
        "id": "h6Pc4ahuGfmF",
        "outputId": "2ff863d7-3355-4d06-e5c2-ef77a1becf4a"
      },
      "execution_count": 8,
      "outputs": [
        {
          "output_type": "display_data",
          "data": {
            "text/html": [
              "<img src=\"https://imgs.xkcd.com/comics/timeline_of_the_universe.png\"/>"
            ],
            "text/plain": [
              "<IPython.core.display.Image object>"
            ]
          },
          "metadata": {}
        }
      ]
    },
    {
      "cell_type": "markdown",
      "source": [
        "#Day 19: Smiley Pong with pygame"
      ],
      "metadata": {
        "id": "H2Qjn2O--vww"
      }
    },
    {
      "cell_type": "code",
      "source": [
        "from PIL import Image\n",
        "import numpy as np\n",
        "\n",
        "img = Image.open('/content/zombie loan.jpg')#Load an image to convert it to bmp\n",
        "ary = np.array(img)\n",
        "\n",
        "# Split the three channels\n",
        "r,g,b = np.split(ary,3,axis=2)\n",
        "r=r.reshape(-1)\n",
        "g=r.reshape(-1)\n",
        "b=r.reshape(-1)\n",
        "\n",
        "# Standard RGB to grayscale\n",
        "bitmap = list(map(lambda x: 0.299*x[0]+0.587*x[1]+0.114*x[2],\n",
        "zip(r,g,b)))\n",
        "bitmap = np.array(bitmap).reshape([ary.shape[0], ary.shape[1]])\n",
        "bitmap = np.dot((bitmap > 128).astype(float),255)\n",
        "im = Image.fromarray(bitmap.astype(np.uint8))\n",
        "im.save('CrazySmile.bmp')"
      ],
      "metadata": {
        "id": "1sLjxa6mClcf"
      },
      "execution_count": 2,
      "outputs": []
    },
    {
      "cell_type": "code",
      "source": [
        "#Run in local server / local python\n",
        "\n",
        "import pygame # Setup\n",
        "\n",
        "pygame.init()\n",
        "screen = pygame.display.set_mode([800,600])\n",
        "pygame.display.set_caption(\"Smiley Pong\")\n",
        "keepGoing = True\n",
        "pic = pygame.image.load(\"/content/CrazySmile.bmp\")\n",
        "\n",
        "colorkey = pic.get_at((0,0))\n",
        "pic.set_colorkey(colorkey)\n",
        "picx = 0\n",
        "picy = 0\n",
        "BLACK = (0,0,0)\n",
        "\n",
        "WHITE = (255,255,255)\n",
        "timer = pygame.time.Clock()\n",
        "speedx = 5\n",
        "speedy = 5\n",
        "paddlew = 200\n",
        "paddleh = 25\n",
        "paddlex = 300\n",
        "paddley = 550\n",
        "picw = 100\n",
        "pich = 100\n",
        "points = 0\n",
        "lives = 5\n",
        "font = pygame.font.SysFont(\"Times\", 24)\n",
        "\n",
        "while keepGoing: # Game loop\n",
        "  for event in pygame.event.get():\n",
        "    if event.type == pygame.QUIT:\n",
        "      keepGoing = False\n",
        "  picx += speedx\n",
        "  picy += speedy\n",
        "\n",
        "  if picx <= 0 or picx + pic.get_width() >= 800:\n",
        "    speedx = -speedx\n",
        "  if picy <= 0:\n",
        "    speedy = -speedy\n",
        "  if picy >= 500:\n",
        "    lives -= 1\n",
        "    speedy = -speedy\n",
        "\n",
        "  screen.fill(BLACK)\n",
        "  screen.blit(pic, (picx, picy))\n",
        "\n",
        "  # Draw paddle\n",
        "  paddlex = pygame.mouse.get_pos()[0]\n",
        "  paddlex -= paddlew/2\n",
        "  pygame.draw.rect(screen, WHITE, (paddlex, paddley, paddlew, paddleh))\n",
        "\n",
        "  # Check for paddle bounce\n",
        "  if picy + pich >= paddley and picy + pich <= paddley + paddleh \\\n",
        "  and speedy > 0:\n",
        "    if picx + picw / 2 >= paddlex and picx + picw / 2 <= paddlex + \\\n",
        "      paddlew:\n",
        "        points += 1\n",
        "        speedy = -speedy\n",
        "\n",
        "  # Draw text on screen\n",
        "  draw_string = \"Lives: \" + str(lives) + \" Points: \" + str(points)\n",
        "\n",
        "  text = font.render(draw_string, True, WHITE)\n",
        "  text_rect = text.get_rect()\n",
        "  text_rect.centerx = screen.get_rect().centerx\n",
        "  text_rect.y = 10\n",
        "  screen.blit(text, text_rect)\n",
        "  pygame.display.update()\n",
        "  timer.tick(60)\n",
        "\n",
        "\n",
        "pygame.quit() #Exit"
      ],
      "metadata": {
        "id": "JklvN8anKEb6"
      },
      "execution_count": null,
      "outputs": []
    }
  ]
}