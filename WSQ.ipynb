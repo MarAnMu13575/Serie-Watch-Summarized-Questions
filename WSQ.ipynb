{
  "nbformat": 4,
  "nbformat_minor": 0,
  "metadata": {
    "colab": {
      "provenance": []
    },
    "kernelspec": {
      "name": "python3",
      "display_name": "Python 3"
    },
    "language_info": {
      "name": "python"
    }
  },
  "cells": [
    {
      "cell_type": "markdown",
      "source": [
        "# Day 1: Playing with numbers"
      ],
      "metadata": {
        "id": "dXkt-I4cWmtO"
      }
    },
    {
      "cell_type": "code",
      "execution_count": 4,
      "metadata": {
        "colab": {
          "base_uri": "https://localhost:8080/"
        },
        "id": "eAKbxIceWl4i",
        "outputId": "06d690fe-25f8-4227-eb8f-b4080d1f48c2"
      },
      "outputs": [
        {
          "output_type": "stream",
          "name": "stdout",
          "text": [
            "Please give me a value for X\n",
            "10\n",
            "Please input another number y\n",
            "20\n",
            " \n",
            "The sum of 10 + 20 = 30\n",
            "The sub of 10 - 20 = -10\n",
            "The mult of 10 * 20 = 200\n",
            "The div of 10 / 20 = 0.5\n",
            "The res of 10 % 20 = 10\n"
          ]
        }
      ],
      "source": [
        "#Ask the user for x and y values\n",
        "\n",
        "x = int(input(\"Please give me a value for X\\n\"))\n",
        "y = int(input(\"Please input another number y\\n\"))\n",
        "\n",
        "print(\" \")\n",
        "# The sum of x + y\n",
        "print(f\"The sum of {x} + {y} = {x + y}\")  # addition\n",
        "\n",
        "# The sub of x - y\n",
        "print(f\"The sub of {x} - {y} = {x - y}\")  # subtraction\n",
        "\n",
        "# The mult of x * y\n",
        "print(f\"The mult of {x} * {y} = {x * y}\")  # multiplication\n",
        "\n",
        "# The div of x / y\n",
        "print(f\"The div of {x} / {y} = {x / y}\")  # division\n",
        "\n",
        "# The res of x % y\n",
        "print(f\"The res of {x} % {y} = {x % y}\")  # modulus"
      ]
    },
    {
      "cell_type": "markdown",
      "source": [
        "# Day 2: From Celsius to Fahrenheit and back"
      ],
      "metadata": {
        "id": "8MmElfB5hPnz"
      }
    },
    {
      "cell_type": "code",
      "source": [
        "#Ask the user if they want to convert from Celsius to Fahrenheit or Fahrenheit to Celsius\n",
        "\n",
        "celsius = 0.0\n",
        "fahrenheit = 0.0\n",
        "\n",
        "def convertF():\n",
        "    global celsius, fahrenheit\n",
        "    celsius = ((fahrenheit - 32) * 5) / 9\n",
        "\n",
        "def convertC():\n",
        "    global celsius, fahrenheit\n",
        "    fahrenheit = ((celsius * 9) / 5) + 32\n",
        "\n",
        "print(\"Welcome to the temperature converter.\")\n",
        "print(\"Please type '1' for Celsius to Fahrenheit conversion.\")\n",
        "print(\"Or, type '2' for Fahrenheit to Celsius conversion.\")\n",
        "\n",
        "choice = int(input())\n",
        "\n",
        "if choice == 1:\n",
        "    print(\"Please enter your temperature in Celsius.\")\n",
        "    celsius = float(input())\n",
        "    convertC()\n",
        "\n",
        "    print(\"\\nComputing...\\n\")\n",
        "    print(f\"The temperature in Fahrenheit is {fahrenheit}.\")\n",
        "    if fahrenheit > 221:\n",
        "        print(\"The water is boiling!\")\n",
        "    if fahrenheit < 32:\n",
        "        print(\"The water is freezing!\")\n",
        "\n",
        "elif choice == 2:\n",
        "    print(\"Please enter your temperature in Fahrenheit.\")\n",
        "    fahrenheit = float(input())\n",
        "    convertF()\n",
        "\n",
        "    print(\"\\nComputing...\\n\")\n",
        "    print(f\"The temperature in Celsius is {celsius}.\")\n",
        "    if celsius > 100:\n",
        "        print(\"The water is heated\")\n",
        "    if celsius < 0:\n",
        "        print(\"The water is freezing!\")\n",
        "\n",
        "else:\n",
        "    print(\"That is not an option!\")\n"
      ],
      "metadata": {
        "colab": {
          "base_uri": "https://localhost:8080/"
        },
        "id": "VKLSUb4zggeJ",
        "outputId": "4f8215df-7933-479b-bf68-b88d95e332c8"
      },
      "execution_count": 10,
      "outputs": [
        {
          "output_type": "stream",
          "name": "stdout",
          "text": [
            "Welcome to the temperature converter.\n",
            "Please type '1' for Celsius to Fahrenheit conversion.\n",
            "Or, type '2' for Fahrenheit to Celsius conversion.\n",
            "1\n",
            "Please enter your temperature in Celsius.\n",
            "130\n",
            "\n",
            "Computing...\n",
            "\n",
            "The temperature in Fahrenheit is 266.0.\n",
            "The water is boiling\n"
          ]
        }
      ]
    },
    {
      "cell_type": "markdown",
      "source": [
        "# Day 3: Guess Random number"
      ],
      "metadata": {
        "id": "Io5zoYW2khfq"
      }
    },
    {
      "cell_type": "code",
      "source": [
        "import os\n",
        "import random\n",
        "import time\n",
        "\n",
        "iNumber = 0\n",
        "iUserguess = 0\n",
        "iGuesses = 0\n",
        "\n",
        "while True:\n",
        "    os.system(\"clear\" if os.name == \"posix\" else \"cls\")\n",
        "    iGuesses = 0\n",
        "\n",
        "    random.seed(time.time())\n",
        "    iNumber = random.randint(1, 1000)\n",
        "\n",
        "    print(\"Guess the number\")\n",
        "    while True:\n",
        "        iUserguess = int(input(\"Enter your guess: \"))\n",
        "        if iUserguess > iNumber:\n",
        "            print(\"Too High!\\n\")\n",
        "        elif iUserguess < iNumber:\n",
        "            print(\"Too Low!\\n\")\n",
        "        else:\n",
        "            break\n",
        "        iGuesses += 1\n",
        "\n",
        "    print(\"You guessed the right number! High Five!\\n\")\n",
        "    print(f\"You took {iGuesses} guesses\\n\")\n",
        "\n",
        "    play_again = input(\"Do you want to play again? (yes/no): \")\n",
        "    if play_again.lower() != \"yes\":\n",
        "        break"
      ],
      "metadata": {
        "colab": {
          "base_uri": "https://localhost:8080/"
        },
        "id": "f5aBYLCikgp4",
        "outputId": "92367d6b-8096-412c-c56a-8a120e0e9119"
      },
      "execution_count": 12,
      "outputs": [
        {
          "name": "stdout",
          "output_type": "stream",
          "text": [
            "Guess the number\n",
            "Enter your guess: 100\n",
            "Too Low!\n",
            "\n",
            "Enter your guess: 200\n",
            "Too High!\n",
            "\n",
            "Enter your guess: 150\n",
            "Too Low!\n",
            "\n",
            "Enter your guess: 170\n",
            "Too Low!\n",
            "\n",
            "Enter your guess: 190\n",
            "Too Low!\n",
            "\n",
            "Enter your guess: 199\n",
            "Too High!\n",
            "\n",
            "Enter your guess: 195\n",
            "Too High!\n",
            "\n",
            "Enter your guess: 192\n",
            "Too Low!\n",
            "\n",
            "Enter your guess: 914\n",
            "Too High!\n",
            "\n",
            "Enter your guess: 194\n",
            "Too High!\n",
            "\n",
            "Enter your guess: 193\n",
            "You guessed the right number! High Five!\n",
            "\n",
            "You took 10 guesses\n",
            "\n",
            "Do you want to play again? (yes/no): no\n"
          ]
        }
      ]
    },
    {
      "cell_type": "markdown",
      "source": [
        "#Day 4: Sum of an input range"
      ],
      "metadata": {
        "id": "njckLuydmujM"
      }
    },
    {
      "cell_type": "code",
      "source": [
        "#Ask for the range to be sum\n",
        "print(\"This program allows you to calculate the sum of \")\n",
        "print(\"numbers from a lower to a higher values in a range \\n\")\n",
        "\n",
        "First = int(input(\"Enter the first: \"))\n",
        "Last = int(input(\"Enter the last:  \"))\n",
        "\n",
        "# Make sure that the last number is higher than the first\n",
        "# If not, swap them\n",
        "if First > Last:\n",
        "    Temp = First\n",
        "    First = Last\n",
        "    Last = Temp\n",
        "\n",
        "Sum = 0\n",
        "for Counter in range(First, Last + 1):\n",
        "    Sum += Counter\n",
        "\n",
        "print(f\"\\nSum of numbers from { First} to {Last} = {Sum}\")"
      ],
      "metadata": {
        "colab": {
          "base_uri": "https://localhost:8080/"
        },
        "id": "eoPXVaiDmtPD",
        "outputId": "6a789b47-a12e-42ad-a133-8d977cdf4861"
      },
      "execution_count": 17,
      "outputs": [
        {
          "output_type": "stream",
          "name": "stdout",
          "text": [
            "This program allows you to calculate the sum of \n",
            "numbers from a lower to a higher values in a range \n",
            "\n",
            "Enter the first: 4\n",
            "Enter the last:  1\n",
            "\n",
            "Sum of numbers from 1 to 4 = 10\n"
          ]
        }
      ]
    },
    {
      "cell_type": "markdown",
      "source": [
        "Day 5: Create a traingle with \"*\""
      ],
      "metadata": {
        "id": "MNFN2Ix3q9b_"
      }
    },
    {
      "cell_type": "code",
      "source": [
        "#Def the height of the triangle\n",
        "def print_triangle(height):\n",
        "    for i in range(1, height + 1):\n",
        "        print(\" \" * (height - i) + \"*\" * (2 * i - 1))\n",
        "\n",
        "#Input value for triangle height\n",
        "triangle_height = int(input(\"Enter the height of the triangle: \\n\"))\n",
        "print_triangle(triangle_height)"
      ],
      "metadata": {
        "colab": {
          "base_uri": "https://localhost:8080/"
        },
        "id": "HjkFa-sGo1m7",
        "outputId": "0c57eef8-d9c9-4627-ebf4-338bc5c44bbc"
      },
      "execution_count": 27,
      "outputs": [
        {
          "output_type": "stream",
          "name": "stdout",
          "text": [
            "Enter the height of the triangle: \n",
            "10\n",
            "         *\n",
            "        ***\n",
            "       *****\n",
            "      *******\n",
            "     *********\n",
            "    ***********\n",
            "   *************\n",
            "  ***************\n",
            " *****************\n",
            "*******************\n"
          ]
        }
      ]
    }
  ]
}